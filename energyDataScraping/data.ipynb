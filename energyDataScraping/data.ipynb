{
 "cells": [
  {
   "cell_type": "code",
   "execution_count": 28,
   "metadata": {},
   "outputs": [
    {
     "name": "stdout",
     "output_type": "stream",
     "text": [
      "here\n"
     ]
    }
   ],
   "source": [
    "from selenium import webdriver\n",
    "from selenium.webdriver.chrome.service import Service as ChromeService\n",
    "from selenium.webdriver.common.by import By\n",
    "from selenium.webdriver.support.ui import WebDriverWait\n",
    "from selenium.webdriver.support import expected_conditions as EC\n",
    "from selenium.webdriver.chrome.options import Options\n",
    "import os\n",
    "\n",
    "# Path to your ChromeDriver\n",
    "PATH = \"C:/Users/sahit/Desktop/All/coding_repos/coding_pieces/energyDataScraping/chromedriver.exe\"\n",
    "ercot_url = \"https://www.ercot.com/mp/data-products/data-product-details?id=NP3-233-CD\"\n",
    "\n",
    "# Verify if the ChromeDriver path is correct\n",
    "if not os.path.isfile(PATH):\n",
    "    raise FileNotFoundError(f\"ChromeDriver not found at the specified path: {PATH}\")\n",
    "\n",
    "chrome_options = Options()\n",
    "chrome_options.add_argument(\"--headless\")  # Run in headless mode\n",
    "chrome_options.add_argument(\"--no-sandbox\")\n",
    "chrome_options.add_argument(\"--disable-dev-shm-usage\")\n",
    "\n",
    "# Initialize the Chrome service with the correct executable path\n",
    "chrome_service = ChromeService(executable_path=PATH)\n",
    "\n",
    "# Initialize the WebDriver with options\n",
    "driver = webdriver.Chrome(service=chrome_service, options=chrome_options)\n",
    "\n",
    "try:\n",
    "    # Navigate to the ERCOT URL\n",
    "    driver.get(ercot_url)\n",
    "\n",
    "    # Wait until the table with the ID 'reportTable' is present\n",
    "    WebDriverWait(driver, 40).until(\n",
    "        EC.presence_of_element_located((By.ID, \"reportTable\"))\n",
    "    )\n",
    "    print(\"here\")\n",
    "\n",
    "    # Find all 'a' tags within the table with ID 'reportTable' and nested within 'tbody' and 'tr'\n",
    "    links = driver.find_elements(By.CSS_SELECTOR, \"table#reportTable tbody tr\")\n",
    "\n",
    "    # Print the href attribute of each link\n",
    "    for link in links:\n",
    "        date = link.find_element(By.CSS_SELECTOR, \"td:nth-child(2)\").text\n",
    "        time = link.find_element(By.CSS_SELECTOR, \"td:nth-child(3)\").text\n",
    "        link = link.find_element(By.CSS_SELECTOR, \"td:nth-child(4) a\").get_attribute(\n",
    "            \"href\"\n",
    "        )\n",
    "        print(date)\n",
    "finally:\n",
    "    # Quit the WebDriver\n",
    "    driver.quit()"
   ]
  }
 ],
 "metadata": {
  "kernelspec": {
   "display_name": "Citi",
   "language": "python",
   "name": "python3"
  },
  "language_info": {
   "codemirror_mode": {
    "name": "ipython",
    "version": 3
   },
   "file_extension": ".py",
   "mimetype": "text/x-python",
   "name": "python",
   "nbconvert_exporter": "python",
   "pygments_lexer": "ipython3",
   "version": "3.9.2"
  }
 },
 "nbformat": 4,
 "nbformat_minor": 2
}
