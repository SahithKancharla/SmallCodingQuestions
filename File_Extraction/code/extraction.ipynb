{
 "cells": [
  {
   "cell_type": "code",
   "execution_count": 12,
   "metadata": {},
   "outputs": [],
   "source": [
    "import os\n",
    "import zipfile\n",
    "import pandas as pd\n",
    "# Get the current working directory\n",
    "current_working_directory = os.getcwd()\n",
    "\n",
    "# Construct the absolute path by joining the current working directory with the relative path\n",
    "target_directory = os.path.join(current_working_directory, '../data')\n",
    "os.chdir(target_directory)\n",
    "\n",
    "# Create a directory to extract the folders into\n",
    "extraction_directory = os.path.join(current_working_directory, '../extracted_folders')\n",
    "os.makedirs(extraction_directory, exist_ok=True)\n",
    "\n",
    "# This finds all the files that we need\n",
    "for filename in os.listdir(os.getcwd()):\n",
    "    with zipfile.ZipFile(os.path.join(os.getcwd(), filename), 'r') as zip_ref:\n",
    "        zip_ref.extractall(extraction_directory)\n"
   ]
  },
  {
   "cell_type": "markdown",
   "metadata": {},
   "source": [
    "From the above code I realised how to get each file and i also have a way to extract each of them. now i want to only get giles that have .csv in them becuase i like csv over .xml (beat it)."
   ]
  },
  {
   "cell_type": "code",
   "execution_count": 13,
   "metadata": {},
   "outputs": [],
   "source": [
    "# Create a directory to extract the files into\n",
    "extraction_directory_csv = os.path.join(current_working_directory, '../extracted_csv')\n",
    "os.makedirs(extraction_directory_csv, exist_ok=True)\n",
    "\n",
    "for filename in os.listdir(extraction_directory):\n",
    "    if \"_csv\" in filename:\n",
    "        with zipfile.ZipFile(os.path.join(extraction_directory, filename), 'r') as zip_ref:\n",
    "            zip_ref.extractall(extraction_directory_csv)\n",
    "        "
   ]
  },
  {
   "cell_type": "markdown",
   "metadata": {},
   "source": [
    "This gave me all the csv files that i need. now it is time to open each csv files and oppend the information into the file that we want. for that i am folling the folling steps:\n",
    "\n",
    "- extract the day, month year information\n",
    "- check for thaat information in the file\n",
    "- append the infomration into a different file that we want"
   ]
  },
  {
   "cell_type": "code",
   "execution_count": null,
   "metadata": {},
   "outputs": [],
   "source": [
    "from datetime import datetime, timedelta\n",
    "\n",
    "# total_df = pd.DataFrame()\n",
    "\n",
    "# for files in os.listdir(extraction_directory_csv):\n",
    "#     name = os.path.splitext(files)[0]\n",
    "#     yyyymmdd = name.split('.')[3]\n",
    "#     year = int(yyyymmdd[0:4])\n",
    "#     month = int(yyyymmdd[4:6])\n",
    "#     day = int(yyyymmdd[6:])\n",
    "#     date_object = datetime(year, month, day)\n",
    "\n",
    "#     start_time = date_object + timedelta(hours=6)\n",
    "#     end_time = start_time + timedelta(hours=23)\n",
    "\n",
    "#     df = pd.read_csv(os.path.join(extraction_directory_csv, files))\n",
    "#     df['Timestamp'] = pd.to_datetime(df['DeliveryDate']+ ' ' + df['HourEnding'], format='%m/%d/%Y %H:%M')\n",
    "\n",
    "\n",
    "#     filtered_df = df[(df['Timestamp'] >= start_time) & (df['Timestamp'] <= end_time)]\n",
    "#     total_df = pd.concat([total_df, filtered_df])\n",
    "\n",
    "\n",
    "\n",
    "# print(total_df)\n",
    "# total_df.to_csv(\"../test/test.csv\")\n",
    "\n",
    "# total_df = pd.DataFrame()\n",
    "\n",
    "\n",
    "\n",
    "for files in os.listdir(extraction_directory_csv):\n",
    "    name = os.path.splitext(files)[0]\n",
    "    yyyymmdd = name.split('.')[3]\n",
    "    year = int(yyyymmdd[0:4])\n",
    "    month = int(yyyymmdd[4:6])\n",
    "    day = int(yyyymmdd[6:])\n",
    "    date_object = datetime(year, month, day)\n",
    "\n",
    "    start_time = date_object + timedelta(hours=0)\n",
    "    end_time = start_time + timedelta(hours=23)\n",
    "\n",
    "    df = pd.read_csv(os.path.join(extraction_directory_csv, files))\n",
    "    df['Timestamp'] = pd.to_datetime(df['DeliveryDate']+ ' ' + df['HourEnding'], format='%m/%d/%Y %H:%M')\n",
    "\n",
    "\n",
    "    filtered_df = df[(df['Timestamp'] >= start_time) & (df['Timestamp'] <= end_time)]\n",
    "    total_df = pd.concat([total_df, filtered_df])\n",
    "\n",
    "\n",
    "\n",
    "print(total_df)\n",
    "total_df.to_csv(\"../train/train.csv\")\n",
    "\n",
    "\n",
    "\n",
    "# for files in os.listdir(os.path.join(extraction_directory_csv, '../testing_folder/')):\n",
    "#     name = os.path.splitext(files)[0]\n",
    "#     yyyymmdd = name.split('.')[3]\n",
    "#     year = int(yyyymmdd[0:4])\n",
    "#     month = int(yyyymmdd[4:6])\n",
    "#     day = int(yyyymmdd[6:])\n",
    "#     date_object = datetime(year, month, day)\n",
    "\n",
    "#     start_time = date_object + timedelta(hours=6)\n",
    "#     end_time = start_time + timedelta(hours=23)\n",
    "\n",
    "#     df = pd.read_csv(os.path.join(extraction_directory_csv, files))\n",
    "#     df['Timestamp'] = pd.to_datetime(df['DeliveryDate']+ ' ' + df['HourEnding'], format='%m/%d/%Y %H:%M')\n",
    "#     filtered_df = df[(df['Timestamp'] >= start_time) & (df['Timestamp'] <= end_time)]\n",
    "\n",
    "    \n",
    "    # total_df = pd.concat([total_df, filtered_df])\n",
    "\n",
    "    \n",
    "    \n",
    "\n"
   ]
  },
  {
   "cell_type": "code",
   "execution_count": null,
   "metadata": {},
   "outputs": [],
   "source": [
    "filtered_df.head(25)"
   ]
  },
  {
   "cell_type": "code",
   "execution_count": null,
   "metadata": {},
   "outputs": [],
   "source": [
    "# df['Timestamp'] = pd.to_datetime(df['Timestamp'])\n",
    "filtered_df['Timestamp'] = pd.to_datetime(filtered_df['Timestamp']).dt.strftime('%Y-%m-%dT%H:%M:%S')\n",
    "\n",
    "# filtered_df.index = filtered_df.index.tz_localize('UTC')\n",
    "filtered_df.head(25)\n"
   ]
  },
  {
   "cell_type": "code",
   "execution_count": 15,
   "metadata": {},
   "outputs": [
    {
     "name": "stdout",
     "output_type": "stream",
     "text": [
      "2587 62088 (62088, 13)\n"
     ]
    }
   ],
   "source": [
    "test = pd.read_csv(os.path.join(extraction_directory_csv, '../test/test.csv'))\n",
    "dir_size = len(os.listdir(extraction_directory_csv))\n",
    "print(dir_size, dir_size * 24, test.shape)\n",
    "    "
   ]
  }
 ],
 "metadata": {
  "kernelspec": {
   "display_name": "Python 3 (ipykernel)",
   "language": "python",
   "name": "python3"
  },
  "language_info": {
   "codemirror_mode": {
    "name": "ipython",
    "version": 3
   },
   "file_extension": ".py",
   "mimetype": "text/x-python",
   "name": "python",
   "nbconvert_exporter": "python",
   "pygments_lexer": "ipython3",
   "version": "3.9.10"
  }
 },
 "nbformat": 4,
 "nbformat_minor": 4
}
